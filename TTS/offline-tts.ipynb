{
 "cells": [
  {
   "cell_type": "code",
   "execution_count": 5,
   "metadata": {},
   "outputs": [],
   "source": [
    "import pyttsx3\n",
    "\n",
    "# EN\n",
    "def text_to_speech_offline(text):\n",
    "    engine = pyttsx3.init()\n",
    "    \n",
    "    engine.setProperty('volume', 1.0)  \n",
    "    engine.setProperty('rate', 180) \n",
    "\n",
    "\n",
    "    engine.setProperty('voice', 'com.apple.speech.synthesis.voice.samantha')\n",
    "\n",
    "    engine.say(text)\n",
    "    engine.runAndWait()\n",
    "\n",
    "text_to_speech_offline(\"Hello, I am your AI assistant.\")"
   ]
  },
  {
   "cell_type": "code",
   "execution_count": 8,
   "metadata": {},
   "outputs": [],
   "source": [
    "# CH\n",
    "def text_to_speech_offline(text):\n",
    "    engine = pyttsx3.init()\n",
    "    \n",
    "\n",
    "    engine.setProperty('volume', 1.0)  \n",
    "    engine.setProperty('rate', 180)  \n",
    "\n",
    "    engine.setProperty('voice', 'com.apple.speech.synthesis.voice.ting-ting')\n",
    "\n",
    "    engine.say(text)\n",
    "    engine.runAndWait()\n",
    "\n",
    "text_to_speech_offline(\"你好，我是你的语音助手。\")"
   ]
  },
  {
   "cell_type": "code",
   "execution_count": null,
   "metadata": {},
   "outputs": [],
   "source": []
  }
 ],
 "metadata": {
  "kernelspec": {
   "display_name": "littleSeven",
   "language": "python",
   "name": "python3"
  },
  "language_info": {
   "codemirror_mode": {
    "name": "ipython",
    "version": 3
   },
   "file_extension": ".py",
   "mimetype": "text/x-python",
   "name": "python",
   "nbconvert_exporter": "python",
   "pygments_lexer": "ipython3",
   "version": "3.12.0"
  }
 },
 "nbformat": 4,
 "nbformat_minor": 2
}
