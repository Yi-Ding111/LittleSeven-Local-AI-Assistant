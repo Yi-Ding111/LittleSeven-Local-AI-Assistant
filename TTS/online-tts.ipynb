{
 "cells": [
  {
   "cell_type": "code",
   "execution_count": 3,
   "metadata": {},
   "outputs": [],
   "source": [
    "from gtts import gTTS\n",
    "from io import BytesIO\n",
    "from pydub import AudioSegment\n",
    "from pydub.playback import play\n",
    "\n",
    "def text_to_speech(text, lang=\"en\"):\n",
    "    # use memory to store the voice file\n",
    "    mp3_fp = BytesIO()\n",
    "    \n",
    "    # generate voice\n",
    "    tts = gTTS(text=text, lang=lang)\n",
    "    tts.write_to_fp(mp3_fp)\n",
    "\n",
    "    mp3_fp.seek(0)\n",
    "    audio = AudioSegment.from_file(mp3_fp, format=\"mp3\")\n",
    "\n",
    "    play(audio)\n",
    "\n",
    "text_to_speech(\"Hello, I am your AI assistant.\")"
   ]
  },
  {
   "cell_type": "code",
   "execution_count": null,
   "metadata": {},
   "outputs": [],
   "source": []
  }
 ],
 "metadata": {
  "kernelspec": {
   "display_name": "littleSeven",
   "language": "python",
   "name": "python3"
  },
  "language_info": {
   "codemirror_mode": {
    "name": "ipython",
    "version": 3
   },
   "file_extension": ".py",
   "mimetype": "text/x-python",
   "name": "python",
   "nbconvert_exporter": "python",
   "pygments_lexer": "ipython3",
   "version": "3.12.0"
  }
 },
 "nbformat": 4,
 "nbformat_minor": 2
}
