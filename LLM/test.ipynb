{
 "cells": [
  {
   "cell_type": "code",
   "execution_count": 2,
   "metadata": {},
   "outputs": [
    {
     "name": "stdout",
     "output_type": "stream",
     "text": [
      "./model\n"
     ]
    }
   ],
   "source": [
    "import sys\n",
    "sys.path.append('/Users/yiding/personal_projects/ML/github_repo/littleSeven/')\n",
    "from common.config import cfg\n",
    "print(cfg.model_path)"
   ]
  },
  {
   "cell_type": "code",
   "execution_count": null,
   "metadata": {},
   "outputs": [
    {
     "name": "stderr",
     "output_type": "stream",
     "text": [
      "/opt/homebrew/Caskroom/miniforge/base/envs/littleSeven/lib/python3.12/site-packages/tqdm/auto.py:21: TqdmWarning: IProgress not found. Please update jupyter and ipywidgets. See https://ipywidgets.readthedocs.io/en/stable/user_install.html\n",
      "  from .autonotebook import tqdm as notebook_tqdm\n"
     ]
    }
   ],
   "source": [
    "from transformers import GPT2LMHeadModel, GPT2Tokenizer\n",
    "import torch\n",
    "\n",
    "# test the downloaded model\n",
    "model = GPT2LMHeadModel.from_pretrained('../model')\n",
    "tokenizer = GPT2Tokenizer.from_pretrained('../model')"
   ]
  },
  {
   "cell_type": "code",
   "execution_count": null,
   "metadata": {},
   "outputs": [
    {
     "name": "stdout",
     "output_type": "stream",
     "text": [
      "I am an AI assistant and my name is LittleSeven, and I am a programmer. I am a programmer. I am a programmer. I am a programmer. I am a programmer. I am a programmer. I am a programmer. I am\n"
     ]
    }
   ],
   "source": [
    "# set pad_token as eos_token\n",
    "tokenizer.pad_token = tokenizer.eos_token\n",
    "\n",
    "# generate text \n",
    "def generate_text(prompt: str, max_length: int = 50):\n",
    "    # tokenize\n",
    "    inputs = tokenizer(prompt, return_tensors=\"pt\", padding=True, truncation=True)\n",
    "    \n",
    "    # setup attention_mask and pad_token_id\n",
    "    attention_mask = inputs.get('attention_mask', torch.ones_like(inputs['input_ids']))\n",
    "    \n",
    "    outputs = model.generate(\n",
    "        inputs['input_ids'], \n",
    "        attention_mask=attention_mask,  # 使用 attention_mask\n",
    "        pad_token_id=tokenizer.pad_token_id,  # 设置 pad_token_id 为 eos_token_id\n",
    "        max_length=max_length, \n",
    "        num_return_sequences=1\n",
    "    )\n",
    "    \n",
    "    # decoding\n",
    "    return tokenizer.decode(outputs[0], skip_special_tokens=True)\n",
    "\n",
    "# test\n",
    "prompt = \"I am an AI assistant and my name is LittleSeven,\"\n",
    "generated_text = generate_text(prompt)\n",
    "print(generated_text)"
   ]
  },
  {
   "cell_type": "code",
   "execution_count": null,
   "metadata": {},
   "outputs": [],
   "source": []
  }
 ],
 "metadata": {
  "kernelspec": {
   "display_name": "littleSeven",
   "language": "python",
   "name": "python3"
  },
  "language_info": {
   "codemirror_mode": {
    "name": "ipython",
    "version": 3
   },
   "file_extension": ".py",
   "mimetype": "text/x-python",
   "name": "python",
   "nbconvert_exporter": "python",
   "pygments_lexer": "ipython3",
   "version": "3.12.0"
  }
 },
 "nbformat": 4,
 "nbformat_minor": 2
}
