{
 "cells": [
  {
   "cell_type": "code",
   "execution_count": 23,
   "metadata": {},
   "outputs": [],
   "source": [
    "from dotenv import load_dotenv\n",
    "from langchain_openai import ChatOpenAI\n",
    "import os\n",
    "import json\n",
    "from langchain.agents import AgentExecutor, Tool\n",
    "from langchain.prompts import ChatPromptTemplate, SystemMessagePromptTemplate, HumanMessagePromptTemplate, MessagesPlaceholder,AIMessagePromptTemplate\n",
    "\n",
    "from langchain.memory import ConversationBufferMemory\n",
    "\n",
    "from langchain.agents import AgentExecutor, create_structured_chat_agent"
   ]
  },
  {
   "cell_type": "code",
   "execution_count": 24,
   "metadata": {},
   "outputs": [
    {
     "data": {
      "text/plain": [
       "True"
      ]
     },
     "execution_count": 24,
     "metadata": {},
     "output_type": "execute_result"
    }
   ],
   "source": [
    "load_dotenv()"
   ]
  },
  {
   "cell_type": "code",
   "execution_count": 25,
   "metadata": {},
   "outputs": [],
   "source": [
    "llm = ChatOpenAI(model=\"gpt-4o\",temperature=0.1)"
   ]
  },
  {
   "cell_type": "code",
   "execution_count": 26,
   "metadata": {},
   "outputs": [],
   "source": [
    "def get_local_time(input: str = None) -> str:\n",
    "    from datetime import datetime\n",
    "    current_time = datetime.now().strftime(\"%H:%M:%S\")\n",
    "    # print(f\"LocalTime tool called, returning: {current_time}\")\n",
    "    return f\"Current local time is: {current_time}\""
   ]
  },
  {
   "cell_type": "code",
   "execution_count": 27,
   "metadata": {},
   "outputs": [],
   "source": [
    "tools = [\n",
    "    Tool(\n",
    "        name=\"LocalTime\",\n",
    "        func=get_local_time,\n",
    "        description=\"Use this tool to get the current local time.\"\n",
    "    )\n",
    "]"
   ]
  },
  {
   "cell_type": "code",
   "execution_count": 28,
   "metadata": {},
   "outputs": [],
   "source": [
    "system_message=SystemMessagePromptTemplate.from_template(\n",
    "    \"\"\" You are an AI assistant. Your responses will be converted into speech.\n",
    "        Please ensure that your answers:\n",
    "        - Are conversational and sound natural when spoken.\n",
    "        - Use a friendly and engaging tone.\n",
    "        - Avoid overly formal or robotic language.\n",
    "        - Use contractions where appropriate (e.g., \"I'm\" instead of \"I am\").\n",
    "        - Keep sentences short and easy to understand.\n",
    "        - Use a storytelling style when possible.\n",
    "        \n",
    "        Respond to the human as helpfully and accurately as possible. You have access to the following tools:\n",
    "        {tools}\n",
    "        Use a json blob to specify a tool by providing an action key (tool name) and an action_input key (tool input).\n",
    "        Valid \"action\" values: \"Final Answer\" or {tool_names}.\n",
    "        Provide only ONE action per $JSON_BLOB, as shown:\n",
    "        ```\n",
    "        {{\n",
    "        \"action\": $TOOL_NAME,\n",
    "        \"action_input\": $INPUT\n",
    "        }}\n",
    "        ```\n",
    "        Follow this format:\n",
    "\n",
    "        Question: input question to answer\n",
    "        Thought: consider previous and subsequent steps\n",
    "        Action:\n",
    "        ```\n",
    "        $JSON_BLOB\n",
    "        ```\n",
    "        Observation: action result\n",
    "        ... (repeat Thought/Action/Observation N times)\n",
    "        Thought: I know what to respond\n",
    "        Action:\n",
    "        ```\n",
    "        {{\n",
    "        \"action\": \"Final Answer\",\n",
    "        \"action_input\": \"Final response to human\"\n",
    "        }}\n",
    "        ```        \n",
    "        Begin! Reminder to ALWAYS respond with a valid json blob of a single action. Use tools if necessary. Respond directly if appropriate. Format is Action:```$JSON_BLOB```then Observation\n",
    "        \"\"\"\n",
    ")\n",
    "\n",
    "history_placeholder=MessagesPlaceholder(variable_name=\"history\",optional=True)\n",
    "\n",
    "scratchpad_placeholder = MessagesPlaceholder(variable_name=\"agent_scratchpad\", optional=True)\n",
    "\n",
    "human_message=HumanMessagePromptTemplate.from_template(\n",
    "    \"\"\"{input}\n",
    "    \n",
    "    {agent_scratchpad}\n",
    "    \n",
    "    (reminder to respond in a JSON blob no matter what)\"\"\"\n",
    ")\n",
    "\n",
    "assisstant_message=AIMessagePromptTemplate.from_template(\n",
    "    \"Understood! I will analyze your question type and provide a detailed response.\"\n",
    ")"
   ]
  },
  {
   "cell_type": "code",
   "execution_count": 29,
   "metadata": {},
   "outputs": [],
   "source": [
    "prompt_template=ChatPromptTemplate.from_messages([\n",
    "    system_message,\n",
    "    history_placeholder,\n",
    "    human_message,\n",
    "    assisstant_message\n",
    "])"
   ]
  },
  {
   "cell_type": "code",
   "execution_count": 30,
   "metadata": {},
   "outputs": [],
   "source": [
    "memory = ConversationBufferMemory(\n",
    "    memory_key=\"history\", return_messages=True)"
   ]
  },
  {
   "cell_type": "code",
   "execution_count": 31,
   "metadata": {},
   "outputs": [
    {
     "data": {
      "text/plain": [
       "ConversationBufferMemory(chat_memory=InMemoryChatMessageHistory(messages=[]), return_messages=True)"
      ]
     },
     "execution_count": 31,
     "metadata": {},
     "output_type": "execute_result"
    }
   ],
   "source": [
    "memory"
   ]
  },
  {
   "cell_type": "code",
   "execution_count": 32,
   "metadata": {},
   "outputs": [],
   "source": [
    "MEMORY_FILE = \"memory.json\""
   ]
  },
  {
   "cell_type": "code",
   "execution_count": 33,
   "metadata": {},
   "outputs": [
    {
     "name": "stdout",
     "output_type": "stream",
     "text": [
      "/Users/yiding/personal_projects/ML/github_repo/littleSeven/langc_memory_store\n"
     ]
    }
   ],
   "source": [
    "print(os.getcwd())"
   ]
  },
  {
   "cell_type": "code",
   "execution_count": 34,
   "metadata": {},
   "outputs": [],
   "source": [
    "# def load_memory():\n",
    "#     if os.path.exists(MEMORY_FILE):\n",
    "#         with open(MEMORY_FILE, \"r\", encoding=\"utf-8\") as file:\n",
    "#             try:\n",
    "#                 data = json.load(file)\n",
    "#                 if isinstance(data, list):\n",
    "#                     for message in data:\n",
    "#                         if message[\"role\"] == \"human\":\n",
    "#                             memory.chat_memory.add_user_message(message[\"content\"])\n",
    "#                         elif message[\"role\"] == \"ai\":\n",
    "#                             memory.chat_memory.add_ai_message(message[\"content\"])\n",
    "#             except json.JSONDecodeError as e:\n",
    "#                 return f\"Cannot load history. {e}\"\n",
    "            \n",
    "def load_memory():\n",
    "    import time\n",
    "    if os.path.exists(MEMORY_FILE):\n",
    "        with open(MEMORY_FILE, \"r\", encoding=\"utf-8\") as file:\n",
    "            try:\n",
    "                data = json.load(file)\n",
    "                \n",
    "                saved_timestamp = data.get(\"timestamp\", 0)\n",
    "                current_time = time.time()\n",
    "                elapsed_time = current_time - saved_timestamp\n",
    "                if elapsed_time > 24 * 3600: \n",
    "                    return\n",
    "                \n",
    "                messages = data.get(\"messages\", [])\n",
    "                for message in messages:\n",
    "                    if message[\"role\"] == \"human\":\n",
    "                        memory.chat_memory.add_user_message(message[\"content\"])\n",
    "                    elif message[\"role\"] == \"ai\":\n",
    "                        memory.chat_memory.add_ai_message(message[\"content\"])\n",
    "\n",
    "            except json.JSONDecodeError as e:\n",
    "                return f\"Cannot load history. {e}\"\n",
    "\n",
    "\n",
    "# def save_memory():\n",
    "#     if not os.path.exists(MEMORY_FILE):\n",
    "#         with open(MEMORY_FILE, 'w', encoding='utf-8') as file:\n",
    "#             json.dump([], file) \n",
    "\n",
    "#     messages_as_dicts = [{\"role\": msg.type, \"content\": msg.content} for msg in memory.chat_memory.messages]\n",
    "    \n",
    "#     with open(MEMORY_FILE, 'w', encoding='utf-8') as file:\n",
    "#         json.dump(messages_as_dicts, file, ensure_ascii=False, indent=4)\n",
    "\n",
    "\n",
    "def save_memory():\n",
    "    import time\n",
    "    timestamp=time.time()\n",
    "\n",
    "    if not os.path.exists(MEMORY_FILE):\n",
    "        with open(MEMORY_FILE, 'w', encoding='utf-8') as file:\n",
    "            json.dump([], file) \n",
    "    \n",
    "    messages_as_dicts = [{\"role\": msg.type, \"content\": msg.content} for msg in memory.chat_memory.messages]\n",
    "\n",
    "    data_to_save = {\n",
    "        \"timestamp\": timestamp,\n",
    "        \"messages\": messages_as_dicts\n",
    "    }\n",
    "\n",
    "    with open(MEMORY_FILE, 'w', encoding='utf-8') as file:\n",
    "        json.dump(data_to_save, file, ensure_ascii=False, indent=4)\n"
   ]
  },
  {
   "cell_type": "code",
   "execution_count": 35,
   "metadata": {},
   "outputs": [],
   "source": [
    "load_memory()"
   ]
  },
  {
   "cell_type": "code",
   "execution_count": 36,
   "metadata": {},
   "outputs": [
    {
     "data": {
      "text/plain": [
       "[HumanMessage(content='What is 15^2?', additional_kwargs={}, response_metadata={}),\n",
       " AIMessage(content='15 squared is 225.', additional_kwargs={}, response_metadata={}),\n",
       " HumanMessage(content='how are you?', additional_kwargs={}, response_metadata={}),\n",
       " AIMessage(content=\"I'm doing great, thanks for asking! How about you?\", additional_kwargs={}, response_metadata={}),\n",
       " HumanMessage(content='what is the time now?', additional_kwargs={}, response_metadata={}),\n",
       " AIMessage(content='The current local time is 5:13 PM.', additional_kwargs={}, response_metadata={}),\n",
       " HumanMessage(content='What is 15^2?', additional_kwargs={}, response_metadata={}),\n",
       " AIMessage(content='15 squared is 225.', additional_kwargs={}, response_metadata={}),\n",
       " HumanMessage(content='how are you?', additional_kwargs={}, response_metadata={}),\n",
       " AIMessage(content=\"I'm doing great, thanks for asking! How about you?\", additional_kwargs={}, response_metadata={}),\n",
       " HumanMessage(content='what is the time now?', additional_kwargs={}, response_metadata={}),\n",
       " AIMessage(content='The current local time is 5:14 PM.', additional_kwargs={}, response_metadata={})]"
      ]
     },
     "execution_count": 36,
     "metadata": {},
     "output_type": "execute_result"
    }
   ],
   "source": [
    "memory.chat_memory.messages"
   ]
  },
  {
   "cell_type": "code",
   "execution_count": 37,
   "metadata": {},
   "outputs": [],
   "source": [
    "agent = create_structured_chat_agent(llm=llm, tools=tools, prompt=prompt_template)"
   ]
  },
  {
   "cell_type": "code",
   "execution_count": 38,
   "metadata": {},
   "outputs": [],
   "source": [
    "agent_executor = AgentExecutor(agent=agent, tools=tools, memory=memory,handle_parsing_errors=True, verbose=True)"
   ]
  },
  {
   "cell_type": "code",
   "execution_count": 39,
   "metadata": {},
   "outputs": [
    {
     "name": "stdout",
     "output_type": "stream",
     "text": [
      "\n",
      "\n",
      "\u001b[1m> Entering new AgentExecutor chain...\u001b[0m\n"
     ]
    },
    {
     "name": "stdout",
     "output_type": "stream",
     "text": [
      "\u001b[32;1m\u001b[1;3m{\n",
      "  \"action\": \"Final Answer\",\n",
      "  \"action_input\": \"15 squared is 225.\"\n",
      "}\u001b[0m\n",
      "\n",
      "\u001b[1m> Finished chain.\u001b[0m\n",
      "{'input': 'What is 15^2?', 'history': [HumanMessage(content='What is 15^2?', additional_kwargs={}, response_metadata={}), AIMessage(content='15 squared is 225.', additional_kwargs={}, response_metadata={}), HumanMessage(content='how are you?', additional_kwargs={}, response_metadata={}), AIMessage(content=\"I'm doing great, thanks for asking! How about you?\", additional_kwargs={}, response_metadata={}), HumanMessage(content='what is the time now?', additional_kwargs={}, response_metadata={}), AIMessage(content='The current local time is 5:13 PM.', additional_kwargs={}, response_metadata={}), HumanMessage(content='What is 15^2?', additional_kwargs={}, response_metadata={}), AIMessage(content='15 squared is 225.', additional_kwargs={}, response_metadata={}), HumanMessage(content='how are you?', additional_kwargs={}, response_metadata={}), AIMessage(content=\"I'm doing great, thanks for asking! How about you?\", additional_kwargs={}, response_metadata={}), HumanMessage(content='what is the time now?', additional_kwargs={}, response_metadata={}), AIMessage(content='The current local time is 5:14 PM.', additional_kwargs={}, response_metadata={}), HumanMessage(content='What is 15^2?', additional_kwargs={}, response_metadata={}), AIMessage(content='15 squared is 225.', additional_kwargs={}, response_metadata={})], 'output': '15 squared is 225.'}\n"
     ]
    }
   ],
   "source": [
    "response = agent_executor.invoke({\n",
    "    \"input\": \"What is 15^2?\",\n",
    "    \"history\": memory.chat_memory.messages,  \n",
    "    # \"agent_scratchpad\": ''\n",
    "})\n",
    "\n",
    "print(response)"
   ]
  },
  {
   "cell_type": "code",
   "execution_count": 40,
   "metadata": {},
   "outputs": [
    {
     "data": {
      "text/plain": [
       "ConversationBufferMemory(chat_memory=InMemoryChatMessageHistory(messages=[HumanMessage(content='What is 15^2?', additional_kwargs={}, response_metadata={}), AIMessage(content='15 squared is 225.', additional_kwargs={}, response_metadata={}), HumanMessage(content='how are you?', additional_kwargs={}, response_metadata={}), AIMessage(content=\"I'm doing great, thanks for asking! How about you?\", additional_kwargs={}, response_metadata={}), HumanMessage(content='what is the time now?', additional_kwargs={}, response_metadata={}), AIMessage(content='The current local time is 5:13 PM.', additional_kwargs={}, response_metadata={}), HumanMessage(content='What is 15^2?', additional_kwargs={}, response_metadata={}), AIMessage(content='15 squared is 225.', additional_kwargs={}, response_metadata={}), HumanMessage(content='how are you?', additional_kwargs={}, response_metadata={}), AIMessage(content=\"I'm doing great, thanks for asking! How about you?\", additional_kwargs={}, response_metadata={}), HumanMessage(content='what is the time now?', additional_kwargs={}, response_metadata={}), AIMessage(content='The current local time is 5:14 PM.', additional_kwargs={}, response_metadata={}), HumanMessage(content='What is 15^2?', additional_kwargs={}, response_metadata={}), AIMessage(content='15 squared is 225.', additional_kwargs={}, response_metadata={})]), return_messages=True)"
      ]
     },
     "execution_count": 40,
     "metadata": {},
     "output_type": "execute_result"
    }
   ],
   "source": [
    "memory"
   ]
  },
  {
   "cell_type": "code",
   "execution_count": 41,
   "metadata": {},
   "outputs": [
    {
     "name": "stdout",
     "output_type": "stream",
     "text": [
      "\n",
      "\n",
      "\u001b[1m> Entering new AgentExecutor chain...\u001b[0m\n",
      "\u001b[32;1m\u001b[1;3m{\n",
      "    \"action\": \"Final Answer\",\n",
      "    \"action_input\": \"I'm doing great, thanks for asking! How about you?\"\n",
      "}\u001b[0m\n",
      "\n",
      "\u001b[1m> Finished chain.\u001b[0m\n",
      "{'input': 'how are you?', 'history': [HumanMessage(content='What is 15^2?', additional_kwargs={}, response_metadata={}), AIMessage(content='15 squared is 225.', additional_kwargs={}, response_metadata={}), HumanMessage(content='how are you?', additional_kwargs={}, response_metadata={}), AIMessage(content=\"I'm doing great, thanks for asking! How about you?\", additional_kwargs={}, response_metadata={}), HumanMessage(content='what is the time now?', additional_kwargs={}, response_metadata={}), AIMessage(content='The current local time is 5:13 PM.', additional_kwargs={}, response_metadata={}), HumanMessage(content='What is 15^2?', additional_kwargs={}, response_metadata={}), AIMessage(content='15 squared is 225.', additional_kwargs={}, response_metadata={}), HumanMessage(content='how are you?', additional_kwargs={}, response_metadata={}), AIMessage(content=\"I'm doing great, thanks for asking! How about you?\", additional_kwargs={}, response_metadata={}), HumanMessage(content='what is the time now?', additional_kwargs={}, response_metadata={}), AIMessage(content='The current local time is 5:14 PM.', additional_kwargs={}, response_metadata={}), HumanMessage(content='What is 15^2?', additional_kwargs={}, response_metadata={}), AIMessage(content='15 squared is 225.', additional_kwargs={}, response_metadata={}), HumanMessage(content='how are you?', additional_kwargs={}, response_metadata={}), AIMessage(content=\"I'm doing great, thanks for asking! How about you?\", additional_kwargs={}, response_metadata={})], 'output': \"I'm doing great, thanks for asking! How about you?\"}\n"
     ]
    }
   ],
   "source": [
    "response = agent_executor.invoke({\n",
    "    \"input\": \"how are you?\",\n",
    "})\n",
    "\n",
    "print(response)"
   ]
  },
  {
   "cell_type": "code",
   "execution_count": 42,
   "metadata": {},
   "outputs": [
    {
     "name": "stdout",
     "output_type": "stream",
     "text": [
      "\n",
      "\n",
      "\u001b[1m> Entering new AgentExecutor chain...\u001b[0m\n",
      "\u001b[32;1m\u001b[1;3m{\n",
      "  \"action\": \"LocalTime\",\n",
      "  \"action_input\": \"\"\n",
      "}\u001b[0m\u001b[36;1m\u001b[1;3mCurrent local time is: 17:14:18\u001b[0m\u001b[32;1m\u001b[1;3m{\n",
      "  \"action\": \"Final Answer\",\n",
      "  \"action_input\": \"The current local time is 5:14 PM.\"\n",
      "}\u001b[0m\n",
      "\n",
      "\u001b[1m> Finished chain.\u001b[0m\n",
      "{'input': 'what is the time now?', 'history': [HumanMessage(content='What is 15^2?', additional_kwargs={}, response_metadata={}), AIMessage(content='15 squared is 225.', additional_kwargs={}, response_metadata={}), HumanMessage(content='how are you?', additional_kwargs={}, response_metadata={}), AIMessage(content=\"I'm doing great, thanks for asking! How about you?\", additional_kwargs={}, response_metadata={}), HumanMessage(content='what is the time now?', additional_kwargs={}, response_metadata={}), AIMessage(content='The current local time is 5:13 PM.', additional_kwargs={}, response_metadata={}), HumanMessage(content='What is 15^2?', additional_kwargs={}, response_metadata={}), AIMessage(content='15 squared is 225.', additional_kwargs={}, response_metadata={}), HumanMessage(content='how are you?', additional_kwargs={}, response_metadata={}), AIMessage(content=\"I'm doing great, thanks for asking! How about you?\", additional_kwargs={}, response_metadata={}), HumanMessage(content='what is the time now?', additional_kwargs={}, response_metadata={}), AIMessage(content='The current local time is 5:14 PM.', additional_kwargs={}, response_metadata={}), HumanMessage(content='What is 15^2?', additional_kwargs={}, response_metadata={}), AIMessage(content='15 squared is 225.', additional_kwargs={}, response_metadata={}), HumanMessage(content='how are you?', additional_kwargs={}, response_metadata={}), AIMessage(content=\"I'm doing great, thanks for asking! How about you?\", additional_kwargs={}, response_metadata={}), HumanMessage(content='what is the time now?', additional_kwargs={}, response_metadata={}), AIMessage(content='The current local time is 5:14 PM.', additional_kwargs={}, response_metadata={})], 'output': 'The current local time is 5:14 PM.'}\n"
     ]
    }
   ],
   "source": [
    "response = agent_executor.invoke({\n",
    "    \"input\": \"what is the time now?\",\n",
    "})\n",
    "\n",
    "print(response)"
   ]
  },
  {
   "cell_type": "code",
   "execution_count": 43,
   "metadata": {},
   "outputs": [
    {
     "data": {
      "text/plain": [
       "[HumanMessage(content='What is 15^2?', additional_kwargs={}, response_metadata={}),\n",
       " AIMessage(content='15 squared is 225.', additional_kwargs={}, response_metadata={}),\n",
       " HumanMessage(content='how are you?', additional_kwargs={}, response_metadata={}),\n",
       " AIMessage(content=\"I'm doing great, thanks for asking! How about you?\", additional_kwargs={}, response_metadata={}),\n",
       " HumanMessage(content='what is the time now?', additional_kwargs={}, response_metadata={}),\n",
       " AIMessage(content='The current local time is 5:13 PM.', additional_kwargs={}, response_metadata={}),\n",
       " HumanMessage(content='What is 15^2?', additional_kwargs={}, response_metadata={}),\n",
       " AIMessage(content='15 squared is 225.', additional_kwargs={}, response_metadata={}),\n",
       " HumanMessage(content='how are you?', additional_kwargs={}, response_metadata={}),\n",
       " AIMessage(content=\"I'm doing great, thanks for asking! How about you?\", additional_kwargs={}, response_metadata={}),\n",
       " HumanMessage(content='what is the time now?', additional_kwargs={}, response_metadata={}),\n",
       " AIMessage(content='The current local time is 5:14 PM.', additional_kwargs={}, response_metadata={}),\n",
       " HumanMessage(content='What is 15^2?', additional_kwargs={}, response_metadata={}),\n",
       " AIMessage(content='15 squared is 225.', additional_kwargs={}, response_metadata={}),\n",
       " HumanMessage(content='how are you?', additional_kwargs={}, response_metadata={}),\n",
       " AIMessage(content=\"I'm doing great, thanks for asking! How about you?\", additional_kwargs={}, response_metadata={}),\n",
       " HumanMessage(content='what is the time now?', additional_kwargs={}, response_metadata={}),\n",
       " AIMessage(content='The current local time is 5:14 PM.', additional_kwargs={}, response_metadata={})]"
      ]
     },
     "execution_count": 43,
     "metadata": {},
     "output_type": "execute_result"
    }
   ],
   "source": [
    "memory.chat_memory.messages"
   ]
  },
  {
   "cell_type": "code",
   "execution_count": 44,
   "metadata": {},
   "outputs": [],
   "source": [
    "save_memory()"
   ]
  },
  {
   "cell_type": "code",
   "execution_count": null,
   "metadata": {},
   "outputs": [],
   "source": []
  },
  {
   "cell_type": "code",
   "execution_count": null,
   "metadata": {},
   "outputs": [],
   "source": []
  },
  {
   "cell_type": "code",
   "execution_count": null,
   "metadata": {},
   "outputs": [],
   "source": []
  }
 ],
 "metadata": {
  "kernelspec": {
   "display_name": "littleSeven",
   "language": "python",
   "name": "python3"
  },
  "language_info": {
   "codemirror_mode": {
    "name": "ipython",
    "version": 3
   },
   "file_extension": ".py",
   "mimetype": "text/x-python",
   "name": "python",
   "nbconvert_exporter": "python",
   "pygments_lexer": "ipython3",
   "version": "3.12.0"
  }
 },
 "nbformat": 4,
 "nbformat_minor": 2
}
