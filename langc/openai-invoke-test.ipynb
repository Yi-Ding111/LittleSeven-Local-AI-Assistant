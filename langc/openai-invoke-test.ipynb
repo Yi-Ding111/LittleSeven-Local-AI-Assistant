{
 "cells": [
  {
   "cell_type": "code",
   "execution_count": 1,
   "metadata": {},
   "outputs": [],
   "source": [
    "from dotenv import load_dotenv\n",
    "from langchain_openai import ChatOpenAI\n",
    "import os"
   ]
  },
  {
   "cell_type": "code",
   "execution_count": 2,
   "metadata": {},
   "outputs": [
    {
     "data": {
      "text/plain": [
       "True"
      ]
     },
     "execution_count": 2,
     "metadata": {},
     "output_type": "execute_result"
    }
   ],
   "source": [
    "load_dotenv()"
   ]
  },
  {
   "cell_type": "code",
   "execution_count": 3,
   "metadata": {},
   "outputs": [],
   "source": [
    "model = ChatOpenAI(model=\"gpt-4o\")"
   ]
  },
  {
   "cell_type": "code",
   "execution_count": 4,
   "metadata": {},
   "outputs": [],
   "source": [
    "result = model.invoke(\"What is 81 divided by 9?\")"
   ]
  },
  {
   "cell_type": "code",
   "execution_count": 5,
   "metadata": {},
   "outputs": [
    {
     "data": {
      "text/plain": [
       "AIMessage(content='81 divided by 9 is 9.', additional_kwargs={'refusal': None}, response_metadata={'token_usage': {'completion_tokens': 10, 'prompt_tokens': 16, 'total_tokens': 26, 'completion_tokens_details': {'accepted_prediction_tokens': 0, 'audio_tokens': 0, 'reasoning_tokens': 0, 'rejected_prediction_tokens': 0}, 'prompt_tokens_details': {'audio_tokens': 0, 'cached_tokens': 0}}, 'model_name': 'gpt-4o-2024-08-06', 'system_fingerprint': 'fp_4691090a87', 'finish_reason': 'stop', 'logprobs': None}, id='run-35365d71-d6b9-43ab-b4c3-7d30aaffa850-0', usage_metadata={'input_tokens': 16, 'output_tokens': 10, 'total_tokens': 26, 'input_token_details': {'audio': 0, 'cache_read': 0}, 'output_token_details': {'audio': 0, 'reasoning': 0}})"
      ]
     },
     "execution_count": 5,
     "metadata": {},
     "output_type": "execute_result"
    }
   ],
   "source": [
    "result"
   ]
  },
  {
   "cell_type": "code",
   "execution_count": 6,
   "metadata": {},
   "outputs": [
    {
     "data": {
      "text/plain": [
       "'81 divided by 9 is 9.'"
      ]
     },
     "execution_count": 6,
     "metadata": {},
     "output_type": "execute_result"
    }
   ],
   "source": [
    "result.content"
   ]
  },
  {
   "cell_type": "code",
   "execution_count": 7,
   "metadata": {},
   "outputs": [],
   "source": [
    "from langchain_core.messages import AIMessage, HumanMessage, SystemMessage, ChatMessage"
   ]
  },
  {
   "cell_type": "code",
   "execution_count": 8,
   "metadata": {},
   "outputs": [],
   "source": [
    "chat_history=[\n",
    "    ChatMessage(role='system',content=\"You are an AI assistant, please solve the following math problems.\")\n",
    "]"
   ]
  },
  {
   "cell_type": "code",
   "execution_count": 9,
   "metadata": {},
   "outputs": [],
   "source": [
    "# Chat loop\n",
    "while True:\n",
    "    query = input(\"You: \")\n",
    "    if query.lower() == \"exit\":\n",
    "        break\n",
    "    chat_history.append(ChatMessage(role=\"user\",content=query))  # add user message into chat history\n",
    "\n",
    "    result = model.invoke(chat_history)\n",
    "    response = result.content\n",
    "    chat_history.append(ChatMessage(role=\"assistant\",content=response))\n",
    "\n",
    "    print(f\"AI: {response}\")"
   ]
  },
  {
   "cell_type": "code",
   "execution_count": 10,
   "metadata": {},
   "outputs": [
    {
     "data": {
      "text/plain": [
       "[ChatMessage(content='You are an AI assistant, please solve the following math problems.', additional_kwargs={}, response_metadata={}, role='system')]"
      ]
     },
     "execution_count": 10,
     "metadata": {},
     "output_type": "execute_result"
    }
   ],
   "source": [
    "chat_history"
   ]
  },
  {
   "cell_type": "code",
   "execution_count": 11,
   "metadata": {},
   "outputs": [],
   "source": [
    "chat_history=[\n",
    "    SystemMessage(content=\"You are an AI assistant, please solve the following math problems.\")\n",
    "]"
   ]
  },
  {
   "cell_type": "code",
   "execution_count": 12,
   "metadata": {},
   "outputs": [],
   "source": [
    "# Chat loop\n",
    "while True:\n",
    "    query = input(\"You: \")\n",
    "    if query.lower() == \"exit\":\n",
    "        break\n",
    "    chat_history.append(HumanMessage(content=query))  # add user message into chat history\n",
    "\n",
    "    result = model.invoke(chat_history)\n",
    "    response = result.content\n",
    "    chat_history.append(AIMessage(content=response))\n",
    "\n",
    "    print(f\"AI: {response}\")"
   ]
  },
  {
   "cell_type": "code",
   "execution_count": 13,
   "metadata": {},
   "outputs": [
    {
     "data": {
      "text/plain": [
       "[SystemMessage(content='You are an AI assistant, please solve the following math problems.', additional_kwargs={}, response_metadata={})]"
      ]
     },
     "execution_count": 13,
     "metadata": {},
     "output_type": "execute_result"
    }
   ],
   "source": [
    "chat_history"
   ]
  },
  {
   "cell_type": "code",
   "execution_count": 14,
   "metadata": {},
   "outputs": [],
   "source": [
    "from langchain.prompts import ChatPromptTemplate"
   ]
  },
  {
   "cell_type": "code",
   "execution_count": 25,
   "metadata": {},
   "outputs": [],
   "source": [
    "prompt_template = ChatPromptTemplate.from_messages([\n",
    "    # SystemMessage to set AI behavior\n",
    "    (\"system\", \"\"\"You are a local AI math assistant designed to help users with mathematics-related questions.\n",
    "    \n",
    "    Your objectives:\n",
    "    1. **Identify question type**: Determine whether the question is **conceptual** (e.g., explaining a theorem), **computational** (e.g., solving an equation), or **historical** (e.g., contributions of mathematicians).\n",
    "    2. **Provide intelligent responses**:\n",
    "       - If the question is **computational**, provide **detailed step-by-step solutions** and use **LaTeX formatting** where appropriate.\n",
    "       - If the question is **conceptual**, clearly explain mathematical principles and provide real-world applications.\n",
    "       - If the question is **historical**, include relevant information about the mathematician and their impact.\n",
    "    3. **If the question is unclear**, ask for clarification before answering.\n",
    "    4. **Use tools (e.g., calculator) for complex calculations** but still explain the reasoning behind the solution.\n",
    "    5. **Use proper mathematical terminology** while simplifying explanations if necessary to match the user's level.\n",
    "\n",
    "    ⚠️ Important Notes:\n",
    "    - If the user provides an equation, **check for syntax errors and correct them**.\n",
    "    - Your responses should be **detailed, well-structured, and easy to understand**.,\"\"\"),\n",
    "\n",
    "    # User's question\n",
    "    (\"human\",\"{question}\"),\n",
    "\n",
    "    # AI's response (optional: AI's thought process)\n",
    "    (\"assistant\", \"Understood! I will analyze your question type and provide a detailed response.\"),\n",
    "    # \"\"\"\n",
    "])"
   ]
  },
  {
   "cell_type": "code",
   "execution_count": 26,
   "metadata": {},
   "outputs": [],
   "source": [
    "prompt = prompt_template.invoke({\"question\": \"How to calculate the area of a triangle?\"})"
   ]
  },
  {
   "cell_type": "code",
   "execution_count": 27,
   "metadata": {},
   "outputs": [
    {
     "data": {
      "text/plain": [
       "ChatPromptValue(messages=[SystemMessage(content=\"You are a local AI math assistant designed to help users with mathematics-related questions.\\n    \\n    Your objectives:\\n    1. **Identify question type**: Determine whether the question is **conceptual** (e.g., explaining a theorem), **computational** (e.g., solving an equation), or **historical** (e.g., contributions of mathematicians).\\n    2. **Provide intelligent responses**:\\n       - If the question is **computational**, provide **detailed step-by-step solutions** and use **LaTeX formatting** where appropriate.\\n       - If the question is **conceptual**, clearly explain mathematical principles and provide real-world applications.\\n       - If the question is **historical**, include relevant information about the mathematician and their impact.\\n    3. **If the question is unclear**, ask for clarification before answering.\\n    4. **Use tools (e.g., calculator) for complex calculations** but still explain the reasoning behind the solution.\\n    5. **Use proper mathematical terminology** while simplifying explanations if necessary to match the user's level.\\n\\n    ⚠️ Important Notes:\\n    - If the user provides an equation, **check for syntax errors and correct them**.\\n    - Your responses should be **detailed, well-structured, and easy to understand**.,\", additional_kwargs={}, response_metadata={}), HumanMessage(content='How to calculate the area of \\u200b\\u200ba triangle?', additional_kwargs={}, response_metadata={}), AIMessage(content='Understood! I will analyze your question type and provide a detailed response.', additional_kwargs={}, response_metadata={})])"
      ]
     },
     "execution_count": 27,
     "metadata": {},
     "output_type": "execute_result"
    }
   ],
   "source": [
    "prompt"
   ]
  },
  {
   "cell_type": "code",
   "execution_count": 28,
   "metadata": {},
   "outputs": [
    {
     "name": "stdout",
     "output_type": "stream",
     "text": [
      "Your question is **conceptual** as it pertains to understanding a fundamental mathematical principle. Let me explain how to calculate the area of a triangle.\n",
      "\n",
      "The area \\( A \\) of a triangle can be calculated using several different formulas, depending on the information you have. Here are some common methods:\n",
      "\n",
      "1. **Using Base and Height**:\n",
      "   The most straightforward formula is if you know the base and the height of the triangle:\n",
      "   \\[\n",
      "   A = \\frac{1}{2} \\times \\text{base} \\times \\text{height}\n",
      "   \\]\n",
      "   Here, the \"base\" is any side of the triangle, and the \"height\" is the perpendicular distance from the base to the opposite vertex.\n",
      "\n",
      "2. **Using Heron's Formula**:\n",
      "   If you know the lengths of all three sides of the triangle (let's call them \\( a \\), \\( b \\), and \\( c \\)), you can use Heron's formula. First, compute the semi-perimeter \\( s \\):\n",
      "   \\[\n",
      "   s = \\frac{a + b + c}{2}\n",
      "   \\]\n",
      "   Then, calculate the area:\n",
      "   \\[\n",
      "   A = \\sqrt{s(s-a)(s-b)(s-c)}\n",
      "   \\]\n",
      "\n",
      "3. **Using Trigonometry**:\n",
      "   If you know two sides and the included angle, you can use the following formula:\n",
      "   \\[\n",
      "   A = \\frac{1}{2} \\times a \\times b \\times \\sin C\n",
      "   \\]\n",
      "   Here, \\( a \\) and \\( b \\) are the side lengths, and \\( C \\) is the angle between them.\n",
      "\n",
      "Each method is useful in different scenarios. Would you like an example using one of these methods?\n"
     ]
    }
   ],
   "source": [
    "result = model.invoke(prompt)\n",
    "print(result.content)"
   ]
  },
  {
   "cell_type": "code",
   "execution_count": 29,
   "metadata": {},
   "outputs": [],
   "source": [
    "from langchain.schema.output_parser import StrOutputParser"
   ]
  },
  {
   "cell_type": "code",
   "execution_count": 30,
   "metadata": {},
   "outputs": [],
   "source": [
    "chain = prompt_template | model | StrOutputParser()"
   ]
  },
  {
   "cell_type": "code",
   "execution_count": 31,
   "metadata": {},
   "outputs": [],
   "source": [
    "result = chain.invoke({\"question\": \"How to calculate the area of a triangle?\"})"
   ]
  },
  {
   "cell_type": "code",
   "execution_count": 32,
   "metadata": {},
   "outputs": [
    {
     "data": {
      "text/plain": [
       "\"Your question is conceptual, as it involves understanding the formula used to calculate the area of a triangle.\\n\\nThe area \\\\( A \\\\) of a triangle can be calculated using several methods, depending on the information given. Here are the most common methods:\\n\\n1. **Using Base and Height:**\\n   If you know the base \\\\( b \\\\) and the height \\\\( h \\\\) of the triangle, the area can be calculated using the formula:\\n   \\\\[\\n   A = \\\\frac{1}{2} \\\\times b \\\\times h\\n   \\\\]\\n   Here, the base \\\\( b \\\\) is any side of the triangle, and the height \\\\( h \\\\) is the perpendicular distance from the base to the opposite vertex.\\n\\n2. **Using Heron's Formula:**\\n   If you know the lengths of all three sides of the triangle, say \\\\( a \\\\), \\\\( b \\\\), and \\\\( c \\\\), you can use Heron's formula. First, calculate the semi-perimeter \\\\( s \\\\):\\n   \\\\[\\n   s = \\\\frac{a + b + c}{2}\\n   \\\\]\\n   Then, the area is given by:\\n   \\\\[\\n   A = \\\\sqrt{s(s-a)(s-b)(s-c)}\\n   \\\\]\\n\\n3. **Using Trigonometry:**\\n   If you know two sides of a triangle and the included angle, you can use the formula:\\n   \\\\[\\n   A = \\\\frac{1}{2} \\\\times a \\\\times b \\\\times \\\\sin(C)\\n   \\\\]\\n   where \\\\( a \\\\) and \\\\( b \\\\) are the lengths of the sides, and \\\\( C \\\\) is the measure of the angle between these sides.\\n\\n### Real-World Application:\\nCalculating the area of a triangle is useful in architecture and engineering for determining space coverage or material usage. It is also fundamental in various geographical and astronomical calculations when dealing with triangular plots or celestial triangles.\\n\\nLet me know if you want a detailed example using any specific method!\""
      ]
     },
     "execution_count": 32,
     "metadata": {},
     "output_type": "execute_result"
    }
   ],
   "source": [
    "result"
   ]
  },
  {
   "cell_type": "code",
   "execution_count": 33,
   "metadata": {},
   "outputs": [],
   "source": [
    "from langchain.schema.runnable import RunnableLambda"
   ]
  },
  {
   "cell_type": "code",
   "execution_count": 54,
   "metadata": {},
   "outputs": [],
   "source": [
    "import re\n",
    "\n",
    "def add_line_breaks(text: str) -> str:\n",
    "    \"\"\"Improves readability of AI-generated text for Jupyter notebooks.\"\"\"\n",
    "    \n",
    "    # Ensure proper spacing before mathematical formulas\n",
    "    text = re.sub(r\"(\\d+\\.\\s\\*\\*.*?\\*\\*)\", r\"\\n\\1\\n\", text)  # Add new line before bullet points\n",
    "    text = re.sub(r\"(\\*\\*.*?\\*\\*)\", r\"\\n\\1\\n\", text)  # Ensure bold sections are separated\n",
    "\n",
    "    # Ensure inline LaTeX formulas (\\(...\\)) and block LaTeX (\\[...\\]) are properly spaced\n",
    "    text = re.sub(r\"(\\\\\\[.*?\\\\\\])\", r\"\\n\\1\\n\", text, flags=re.DOTALL)  # Block LaTeX spacing\n",
    "    text = re.sub(r\"(\\\\\\(.*?\\\\\\))\", r\" \\1 \", text)  # Inline LaTeX should not be on separate lines\n",
    "\n",
    "    # Ensure block formulas ($$ ... $$) are spaced properly\n",
    "    text = re.sub(r\"(\\$\\$.*?\\$\\$)\", r\"\\n\\1\\n\", text, flags=re.DOTALL)\n",
    "\n",
    "    # Ensure headers have proper spacing for Markdown rendering\n",
    "    text = re.sub(r\"(##+ .*?)\", r\"\\n\\1\\n\", text)  # Add space before headers\n",
    "\n",
    "    # Ensure lists have proper spacing in Jupyter\n",
    "    text = re.sub(r\"(\\n\\d+\\.\\s\\*\\*.*?\\*\\*)\", r\"\\n\\1\\n\", text)  # Add line breaks for list items\n",
    "\n",
    "    # Remove excessive blank lines (max 2 consecutive newlines)\n",
    "    text = re.sub(r\"\\n{3,}\", \"\\n\\n\", text)\n",
    "\n",
    "    return text.strip()\n",
    "\n",
    "\n",
    "# Create a RunnableLambda to integrate with LangChain\n",
    "readability_parser = RunnableLambda(add_line_breaks)"
   ]
  },
  {
   "cell_type": "code",
   "execution_count": 55,
   "metadata": {},
   "outputs": [],
   "source": [
    "chain = prompt_template | model | StrOutputParser() | readability_parser"
   ]
  },
  {
   "cell_type": "code",
   "execution_count": 56,
   "metadata": {},
   "outputs": [],
   "source": [
    "result = chain.invoke({\"question\": \"How to calculate the area of a triangle?\"})"
   ]
  },
  {
   "cell_type": "code",
   "execution_count": 57,
   "metadata": {},
   "outputs": [
    {
     "data": {
      "text/plain": [
       "\"Your question is a mix of \\n**conceptual**\\n and \\n**computational**\\n types, as it involves understanding a formula for calculating the area and potentially applying it. Here's a detailed explanation:\\n\\n### \\nConceptual Explanation\\n\\nThe area of a triangle can be calculated using various methods depending on the information available. The most commonly used formula is based on the base and height:\\n\\n\\\\[\\n\\\\text{Area} = \\\\frac{1}{2} \\\\times \\\\text{base} \\\\times \\\\text{height}\\n\\\\]\\n\\n- \\n**Base**\\n: One side of the triangle can be considered the base. \\n- \\n**Height**\\n: The perpendicular distance from the base to the opposite vertex.\\n\\n### \\nComputational Example\\n\\nLet's calculate the area of a triangle with a base of 6 units and a height of 4 units.\\n\\n1. \\n**Identify the base and height**\\n\\n: Here, the base  \\\\( b = 6 \\\\)  units and the height  \\\\( h = 4 \\\\)  units.\\n\\n2. \\n**Apply the formula**\\n\\n: \\n   \\n\\\\[\\n   \\\\text{Area} = \\\\frac{1}{2} \\\\times 6 \\\\times 4\\n   \\\\]\\n\\n3. \\n**Perform the calculations**\\n\\n:\\n   \\n\\\\[\\n   \\\\text{Area} = \\\\frac{1}{2} \\\\times 24 = 12\\n   \\\\]\\n\\nThus, the area of the triangle is 12 square units.\\n\\n### \\nOther Methods\\n\\nIf you have different information about the triangle, such as side lengths or angles, other formulas might be applicable:\\n\\n- \\n**Heron's formula**\\n: Used when all three sides are known.\\n  \\n\\\\[\\n  \\\\text{Area} = \\\\sqrt{s(s-a)(s-b)(s-c)}\\n  \\\\]\\n\\n  where  \\\\( s = \\\\frac{a+b+c}{2} \\\\)  is the semi-perimeter, and  \\\\( a, b, c \\\\)  are the side lengths.\\n\\n- \\n**Trigonometric formula**\\n: Used when two sides and the included angle are known.\\n  \\n\\\\[\\n  \\\\text{Area} = \\\\frac{1}{2} ab \\\\sin C\\n  \\\\]\\n\\n  where  \\\\( a \\\\)  and  \\\\( b \\\\)  are sides with  \\\\( C \\\\)  as the included angle.\\n\\n### \\nReal-World Application\\n\\nCalculating the area of a triangle is useful in various fields such as architecture and engineering, especially when designing elements that include triangular shapes (e.g., roof structures, trusses).\\n\\nIf you have a specific triangle with given values, feel free to share them, and I can help compute the area using the appropriate method.\""
      ]
     },
     "execution_count": 57,
     "metadata": {},
     "output_type": "execute_result"
    }
   ],
   "source": [
    "result"
   ]
  },
  {
   "cell_type": "code",
   "execution_count": 58,
   "metadata": {},
   "outputs": [],
   "source": [
    "from IPython.display import display, Markdown"
   ]
  },
  {
   "cell_type": "code",
   "execution_count": 59,
   "metadata": {},
   "outputs": [
    {
     "data": {
      "text/markdown": [
       "Your question is a mix of \n",
       "**conceptual**\n",
       " and \n",
       "**computational**\n",
       " types, as it involves understanding a formula for calculating the area and potentially applying it. Here's a detailed explanation:\n",
       "\n",
       "### \n",
       "Conceptual Explanation\n",
       "\n",
       "The area of a triangle can be calculated using various methods depending on the information available. The most commonly used formula is based on the base and height:\n",
       "\n",
       "\\[\n",
       "\\text{Area} = \\frac{1}{2} \\times \\text{base} \\times \\text{height}\n",
       "\\]\n",
       "\n",
       "- \n",
       "**Base**\n",
       ": One side of the triangle can be considered the base. \n",
       "- \n",
       "**Height**\n",
       ": The perpendicular distance from the base to the opposite vertex.\n",
       "\n",
       "### \n",
       "Computational Example\n",
       "\n",
       "Let's calculate the area of a triangle with a base of 6 units and a height of 4 units.\n",
       "\n",
       "1. \n",
       "**Identify the base and height**\n",
       "\n",
       ": Here, the base  \\( b = 6 \\)  units and the height  \\( h = 4 \\)  units.\n",
       "\n",
       "2. \n",
       "**Apply the formula**\n",
       "\n",
       ": \n",
       "   \n",
       "\\[\n",
       "   \\text{Area} = \\frac{1}{2} \\times 6 \\times 4\n",
       "   \\]\n",
       "\n",
       "3. \n",
       "**Perform the calculations**\n",
       "\n",
       ":\n",
       "   \n",
       "\\[\n",
       "   \\text{Area} = \\frac{1}{2} \\times 24 = 12\n",
       "   \\]\n",
       "\n",
       "Thus, the area of the triangle is 12 square units.\n",
       "\n",
       "### \n",
       "Other Methods\n",
       "\n",
       "If you have different information about the triangle, such as side lengths or angles, other formulas might be applicable:\n",
       "\n",
       "- \n",
       "**Heron's formula**\n",
       ": Used when all three sides are known.\n",
       "  \n",
       "\\[\n",
       "  \\text{Area} = \\sqrt{s(s-a)(s-b)(s-c)}\n",
       "  \\]\n",
       "\n",
       "  where  \\( s = \\frac{a+b+c}{2} \\)  is the semi-perimeter, and  \\( a, b, c \\)  are the side lengths.\n",
       "\n",
       "- \n",
       "**Trigonometric formula**\n",
       ": Used when two sides and the included angle are known.\n",
       "  \n",
       "\\[\n",
       "  \\text{Area} = \\frac{1}{2} ab \\sin C\n",
       "  \\]\n",
       "\n",
       "  where  \\( a \\)  and  \\( b \\)  are sides with  \\( C \\)  as the included angle.\n",
       "\n",
       "### \n",
       "Real-World Application\n",
       "\n",
       "Calculating the area of a triangle is useful in various fields such as architecture and engineering, especially when designing elements that include triangular shapes (e.g., roof structures, trusses).\n",
       "\n",
       "If you have a specific triangle with given values, feel free to share them, and I can help compute the area using the appropriate method."
      ],
      "text/plain": [
       "<IPython.core.display.Markdown object>"
      ]
     },
     "metadata": {},
     "output_type": "display_data"
    }
   ],
   "source": [
    "display(Markdown(result))"
   ]
  },
  {
   "cell_type": "code",
   "execution_count": 62,
   "metadata": {},
   "outputs": [],
   "source": [
    "# from langchain.prompts import ChatPromptTemplate\n",
    "# from langchain.memory import ConversationBufferMemory\n",
    "\n",
    "\n",
    "# memory = ConversationBufferMemory(memory_key=\"history\", return_messages=True)\n",
    "\n",
    "\n",
    "# chat_prompt = ChatPromptTemplate.from_messages([\n",
    "#     SystemMessage(content=\"you are an AI assistant.\"),\n",
    "#     (\"human\", \"{history}\"),\n",
    "#     (\"human\", \"{question}\"),\n",
    "# ])\n",
    "\n",
    "# memory.save_context({\"input\": \"Hello\"}, {\"output\": \"Hello! I am your AI assistant\"})\n",
    "# memory.save_context({\"input\": \"What is the history of AI\"}, {\"output\": \"Artificial intelligence originated in the 1950s...\"})\n",
    "\n",
    "# formatted_messages = chat_prompt.format_messages(\n",
    "#     history=memory.load_memory_variables({})[\"history\"],\n",
    "#     question=\"What is the relationship between AI and ML？\"\n",
    "# )\n",
    "\n",
    "# print(formatted_messages)"
   ]
  },
  {
   "cell_type": "code",
   "execution_count": 65,
   "metadata": {},
   "outputs": [],
   "source": [
    "from langchain.prompts import ChatPromptTemplate, SystemMessagePromptTemplate, HumanMessagePromptTemplate, MessagesPlaceholder,AIMessagePromptTemplate\n"
   ]
  },
  {
   "cell_type": "code",
   "execution_count": 66,
   "metadata": {},
   "outputs": [],
   "source": [
    "system_message=SystemMessagePromptTemplate.from_template(\n",
    "    \"\"\"You are a local AI math assistant designed to help users with mathematics-related questions.\n",
    "    \n",
    "    Your objectives:\n",
    "    1. **Identify question type**: Determine whether the question is **conceptual** (e.g., explaining a theorem), **computational** (e.g., solving an equation), or **historical** (e.g., contributions of mathematicians).\n",
    "    2. **Provide intelligent responses**:\n",
    "       - If the question is **computational**, provide **detailed step-by-step solutions** and use **LaTeX formatting** where appropriate.\n",
    "       - If the question is **conceptual**, clearly explain mathematical principles and provide real-world applications.\n",
    "       - If the question is **historical**, include relevant information about the mathematician and their impact.\n",
    "    3. **If the question is unclear**, ask for clarification before answering.\n",
    "    4. **Use tools (e.g., calculator) for complex calculations** but still explain the reasoning behind the solution.\n",
    "    5. **Use proper mathematical terminology** while simplifying explanations if necessary to match the user's level.\n",
    "\n",
    "    ⚠️ Important Notes:\n",
    "    - If the user provides an equation, **check for syntax errors and correct them**.\n",
    "    - Your responses should be **detailed, well-structured, and easy to understand**.,\"\"\"\n",
    ")\n",
    "\n",
    "history_placeholder=MessagesPlaceholder(variable_name=\"history\",optional=True)\n",
    "\n",
    "human_message=HumanMessagePromptTemplate.from_template(\n",
    "    \"{question}\"\n",
    ")\n",
    "\n",
    "assisstant_message=AIMessagePromptTemplate.from_template(\n",
    "    \"Understood! I will analyze your question type and provide a detailed response.\"\n",
    ")\n",
    "\n",
    "prompt_template=ChatPromptTemplate.from_messages([\n",
    "    system_message,\n",
    "    history_placeholder,\n",
    "    human_message,\n",
    "    assisstant_message\n",
    "])"
   ]
  },
  {
   "cell_type": "code",
   "execution_count": 67,
   "metadata": {},
   "outputs": [
    {
     "data": {
      "text/plain": [
       "ChatPromptTemplate(input_variables=['question'], optional_variables=['history'], input_types={'history': list[typing.Annotated[typing.Union[typing.Annotated[langchain_core.messages.ai.AIMessage, Tag(tag='ai')], typing.Annotated[langchain_core.messages.human.HumanMessage, Tag(tag='human')], typing.Annotated[langchain_core.messages.chat.ChatMessage, Tag(tag='chat')], typing.Annotated[langchain_core.messages.system.SystemMessage, Tag(tag='system')], typing.Annotated[langchain_core.messages.function.FunctionMessage, Tag(tag='function')], typing.Annotated[langchain_core.messages.tool.ToolMessage, Tag(tag='tool')], typing.Annotated[langchain_core.messages.ai.AIMessageChunk, Tag(tag='AIMessageChunk')], typing.Annotated[langchain_core.messages.human.HumanMessageChunk, Tag(tag='HumanMessageChunk')], typing.Annotated[langchain_core.messages.chat.ChatMessageChunk, Tag(tag='ChatMessageChunk')], typing.Annotated[langchain_core.messages.system.SystemMessageChunk, Tag(tag='SystemMessageChunk')], typing.Annotated[langchain_core.messages.function.FunctionMessageChunk, Tag(tag='FunctionMessageChunk')], typing.Annotated[langchain_core.messages.tool.ToolMessageChunk, Tag(tag='ToolMessageChunk')]], FieldInfo(annotation=NoneType, required=True, discriminator=Discriminator(discriminator=<function _get_type at 0x109e66160>, custom_error_type=None, custom_error_message=None, custom_error_context=None))]]}, partial_variables={'history': []}, messages=[SystemMessagePromptTemplate(prompt=PromptTemplate(input_variables=[], input_types={}, partial_variables={}, template=\"You are a local AI math assistant designed to help users with mathematics-related questions.\\n    \\n    Your objectives:\\n    1. **Identify question type**: Determine whether the question is **conceptual** (e.g., explaining a theorem), **computational** (e.g., solving an equation), or **historical** (e.g., contributions of mathematicians).\\n    2. **Provide intelligent responses**:\\n       - If the question is **computational**, provide **detailed step-by-step solutions** and use **LaTeX formatting** where appropriate.\\n       - If the question is **conceptual**, clearly explain mathematical principles and provide real-world applications.\\n       - If the question is **historical**, include relevant information about the mathematician and their impact.\\n    3. **If the question is unclear**, ask for clarification before answering.\\n    4. **Use tools (e.g., calculator) for complex calculations** but still explain the reasoning behind the solution.\\n    5. **Use proper mathematical terminology** while simplifying explanations if necessary to match the user's level.\\n\\n    ⚠️ Important Notes:\\n    - If the user provides an equation, **check for syntax errors and correct them**.\\n    - Your responses should be **detailed, well-structured, and easy to understand**.,\"), additional_kwargs={}), MessagesPlaceholder(variable_name='history', optional=True), HumanMessagePromptTemplate(prompt=PromptTemplate(input_variables=['question'], input_types={}, partial_variables={}, template='{question}'), additional_kwargs={}), AIMessagePromptTemplate(prompt=PromptTemplate(input_variables=[], input_types={}, partial_variables={}, template='Understood! I will analyze your question type and provide a detailed response.'), additional_kwargs={})])"
      ]
     },
     "execution_count": 67,
     "metadata": {},
     "output_type": "execute_result"
    }
   ],
   "source": [
    "prompt_template"
   ]
  },
  {
   "cell_type": "code",
   "execution_count": 68,
   "metadata": {},
   "outputs": [],
   "source": [
    "from langchain.memory import ConversationBufferMemory"
   ]
  },
  {
   "cell_type": "code",
   "execution_count": 69,
   "metadata": {},
   "outputs": [],
   "source": [
    "memory = ConversationBufferMemory(memory_key=\"history\", return_messages=True)"
   ]
  },
  {
   "cell_type": "code",
   "execution_count": 71,
   "metadata": {},
   "outputs": [],
   "source": [
    "from langchain.chains import LLMChain"
   ]
  },
  {
   "cell_type": "code",
   "execution_count": 72,
   "metadata": {},
   "outputs": [
    {
     "name": "stderr",
     "output_type": "stream",
     "text": [
      "/var/folders/5b/b2jjkdb55_g_qzx3lsl5k59m0000gn/T/ipykernel_13825/3762468238.py:1: LangChainDeprecationWarning: The class `LLMChain` was deprecated in LangChain 0.1.17 and will be removed in 1.0. Use :meth:`~RunnableSequence, e.g., `prompt | llm`` instead.\n",
      "  chain = LLMChain(\n"
     ]
    }
   ],
   "source": [
    "chain = LLMChain(\n",
    "    llm=model,\n",
    "    prompt=prompt_template,\n",
    "    memory=memory  \n",
    ")"
   ]
  },
  {
   "cell_type": "code",
   "execution_count": 75,
   "metadata": {},
   "outputs": [],
   "source": [
    "final_chain= chain | RunnableLambda(StrOutputParser().parse)"
   ]
  },
  {
   "cell_type": "code",
   "execution_count": 83,
   "metadata": {},
   "outputs": [],
   "source": [
    "# from langchain.schema.runnable import RunnableSerializable\n",
    "# isinstance(StrOutputParser(), RunnableSerializable)"
   ]
  },
  {
   "cell_type": "code",
   "execution_count": null,
   "metadata": {},
   "outputs": [],
   "source": [
    "# why cannot use StrOutputParser() directly right here:\n",
    "\n",
    "# chain = prompt_template | model | StrOutputParser() | readability_parser ✅\n",
    "# final_chain = chain | StrOutputParser()   ❌\n",
    "\n",
    "# StrOutputParser() is a Runnable object because it inherits from RunnableSerializable:\n",
    "# This means StrOutputParser() can be directly used with | in a Runnable pipeline.\n",
    "\n",
    "# LMChain does not return a str. Instead:\n",
    "# LLMChain.invoke() returns a dict or a Message, not a string.\n",
    "# StrOutputParser().parse() expects a str, so it cannot process dict objects directly.\n",
    "# This causes a type mismatch\n",
    "\n",
    "# To fix this, you need to explicitly call .parse() using RunnableLambda\n",
    "\n",
    "\n",
    "# chain = prompt_template | model | StrOutputParser() | readability_parser:\n",
    "# prompt_template (Runnable) → Generates prompt\n",
    "# model (Runnable) → Calls LLM and returns response\n",
    "# StrOutputParser() (RunnableSerializable) → Extracts string output\n",
    "# readability_parser (Runnable) → Further processes the text\n"
   ]
  },
  {
   "cell_type": "code",
   "execution_count": 76,
   "metadata": {},
   "outputs": [],
   "source": [
    "result = final_chain.invoke({\"question\": \"How to calculate the area of a triangle?\"})"
   ]
  },
  {
   "cell_type": "code",
   "execution_count": 77,
   "metadata": {},
   "outputs": [
    {
     "data": {
      "text/plain": [
       "{'question': 'How to calculate the area of a triangle?',\n",
       " 'history': [HumanMessage(content='How to calculate the area of a triangle?', additional_kwargs={}, response_metadata={}),\n",
       "  AIMessage(content='Your question is **conceptual**, as it involves understanding the principle behind calculating the area of a triangle.\\n\\nThe most common formula for finding the area of a triangle when you know the base and height is:\\n\\n\\\\[\\n\\\\text{Area} = \\\\frac{1}{2} \\\\times \\\\text{base} \\\\times \\\\text{height}\\n\\\\]\\n\\nHere\\'s what each term means:\\n- **Base**: This is any one of the sides of the triangle, usually chosen for convenience as the \"bottom\" side.\\n- **Height**: This is the perpendicular distance from the base to the opposite vertex (the \"top\" point of the triangle).\\n\\n### Example:\\nSuppose you have a triangle with a base of 6 units and a height of 4 units. The area would be calculated as:\\n\\n\\\\[\\n\\\\text{Area} = \\\\frac{1}{2} \\\\times 6 \\\\times 4 = 12 \\\\text{ square units}\\n\\\\]\\n\\n### Other Formulas:\\n1. **Using Heron\\'s Formula**: When you know all three sides \\\\(a\\\\), \\\\(b\\\\), and \\\\(c\\\\), the area can be calculated using Heron\\'s Formula. First, compute the semi-perimeter \\\\(s\\\\):\\n\\n   \\\\[\\n   s = \\\\frac{a + b + c}{2}\\n   \\\\]\\n\\n   Then, use:\\n\\n   \\\\[\\n   \\\\text{Area} = \\\\sqrt{s(s-a)(s-b)(s-c)}\\n   \\\\]\\n\\n2. **Using Trigonometry**: If you know two sides and the included angle, the area can also be found using:\\n\\n   \\\\[\\n   \\\\text{Area} = \\\\frac{1}{2} \\\\times a \\\\times b \\\\times \\\\sin(C)\\n   \\\\]\\n\\n   Here, \\\\(a\\\\) and \\\\(b\\\\) are the sides, and \\\\(C\\\\) is the angle between them.\\n\\n### Real-World Applications:\\n- **Architecture**: Calculating areas of triangular sections within structures.\\n- **Landscape Design**: Planning and plotting gardens or terrains that involve triangular plots.\\n- **Art and Design**: Utilizing triangular shapes within compositions and needing to calculate area for material usage.\\n\\nIf you have specific measurements or a type of triangle in mind and need further assistance, feel free to ask!', additional_kwargs={}, response_metadata={}),\n",
       "  HumanMessage(content='How to calculate the area of a triangle?', additional_kwargs={}, response_metadata={}),\n",
       "  AIMessage(content=\"Your question is conceptual. Let me explain how to calculate the area of a triangle.\\n\\n### Basic Formula\\nThe most common formula to calculate the area of a triangle is:\\n\\n\\\\[\\n\\\\text{Area} = \\\\frac{1}{2} \\\\times \\\\text{base} \\\\times \\\\text{height}\\n\\\\]\\n\\n- **Base**: Any side of the triangle can be considered the base.\\n- **Height**: The perpendicular distance from the base to the opposite vertex.\\n\\n### Example\\nIf you have a triangle with a base of 8 units and a height of 5 units, the area would be calculated as follows:\\n\\n\\\\[\\n\\\\text{Area} = \\\\frac{1}{2} \\\\times 8 \\\\times 5 = 20 \\\\text{ square units}\\n\\\\]\\n\\n### Other Methods\\nIf you’re dealing with specific types of triangles or don't have the height directly, you can use other methods:\\n\\n1. **Heron's Formula**:\\n   When you know the lengths of all three sides, \\\\(a\\\\), \\\\(b\\\\), and \\\\(c\\\\), you can use Heron's Formula. First, compute the semi-perimeter \\\\(s\\\\):\\n\\n   \\\\[\\n   s = \\\\frac{a + b + c}{2}\\n   \\\\]\\n\\n   Then the area \\\\(A\\\\) is given by:\\n\\n   \\\\[\\n   A = \\\\sqrt{s(s-a)(s-b)(s-c)}\\n   \\\\]\\n\\n2. **Using Trigonometry**:\\n   If you know two sides and the included angle, you can use:\\n\\n   \\\\[\\n   \\\\text{Area} = \\\\frac{1}{2} \\\\times a \\\\times b \\\\times \\\\sin(C)\\n   \\\\]\\n\\n   Here, \\\\(a\\\\) and \\\\(b\\\\) are the lengths of the two sides, and \\\\(C\\\\) is the measure of the included angle.\\n\\n### Real-World Applications\\nCalculating the area of a triangle is important in various fields, including architecture, engineering, and geography for land surveying and more.\\n\\nFeel free to ask if you would like to know more about any of these methods!\", additional_kwargs={}, response_metadata={})],\n",
       " 'text': \"Your question is conceptual. Let me explain how to calculate the area of a triangle.\\n\\n### Basic Formula\\nThe most common formula to calculate the area of a triangle is:\\n\\n\\\\[\\n\\\\text{Area} = \\\\frac{1}{2} \\\\times \\\\text{base} \\\\times \\\\text{height}\\n\\\\]\\n\\n- **Base**: Any side of the triangle can be considered the base.\\n- **Height**: The perpendicular distance from the base to the opposite vertex.\\n\\n### Example\\nIf you have a triangle with a base of 8 units and a height of 5 units, the area would be calculated as follows:\\n\\n\\\\[\\n\\\\text{Area} = \\\\frac{1}{2} \\\\times 8 \\\\times 5 = 20 \\\\text{ square units}\\n\\\\]\\n\\n### Other Methods\\nIf you’re dealing with specific types of triangles or don't have the height directly, you can use other methods:\\n\\n1. **Heron's Formula**:\\n   When you know the lengths of all three sides, \\\\(a\\\\), \\\\(b\\\\), and \\\\(c\\\\), you can use Heron's Formula. First, compute the semi-perimeter \\\\(s\\\\):\\n\\n   \\\\[\\n   s = \\\\frac{a + b + c}{2}\\n   \\\\]\\n\\n   Then the area \\\\(A\\\\) is given by:\\n\\n   \\\\[\\n   A = \\\\sqrt{s(s-a)(s-b)(s-c)}\\n   \\\\]\\n\\n2. **Using Trigonometry**:\\n   If you know two sides and the included angle, you can use:\\n\\n   \\\\[\\n   \\\\text{Area} = \\\\frac{1}{2} \\\\times a \\\\times b \\\\times \\\\sin(C)\\n   \\\\]\\n\\n   Here, \\\\(a\\\\) and \\\\(b\\\\) are the lengths of the two sides, and \\\\(C\\\\) is the measure of the included angle.\\n\\n### Real-World Applications\\nCalculating the area of a triangle is important in various fields, including architecture, engineering, and geography for land surveying and more.\\n\\nFeel free to ask if you would like to know more about any of these methods!\"}"
      ]
     },
     "execution_count": 77,
     "metadata": {},
     "output_type": "execute_result"
    }
   ],
   "source": [
    "result"
   ]
  },
  {
   "cell_type": "code",
   "execution_count": 79,
   "metadata": {},
   "outputs": [
    {
     "data": {
      "text/plain": [
       "\"Your question is conceptual. Let me explain how to calculate the area of a triangle.\\n\\n### Basic Formula\\nThe most common formula to calculate the area of a triangle is:\\n\\n\\\\[\\n\\\\text{Area} = \\\\frac{1}{2} \\\\times \\\\text{base} \\\\times \\\\text{height}\\n\\\\]\\n\\n- **Base**: Any side of the triangle can be considered the base.\\n- **Height**: The perpendicular distance from the base to the opposite vertex.\\n\\n### Example\\nIf you have a triangle with a base of 8 units and a height of 5 units, the area would be calculated as follows:\\n\\n\\\\[\\n\\\\text{Area} = \\\\frac{1}{2} \\\\times 8 \\\\times 5 = 20 \\\\text{ square units}\\n\\\\]\\n\\n### Other Methods\\nIf you’re dealing with specific types of triangles or don't have the height directly, you can use other methods:\\n\\n1. **Heron's Formula**:\\n   When you know the lengths of all three sides, \\\\(a\\\\), \\\\(b\\\\), and \\\\(c\\\\), you can use Heron's Formula. First, compute the semi-perimeter \\\\(s\\\\):\\n\\n   \\\\[\\n   s = \\\\frac{a + b + c}{2}\\n   \\\\]\\n\\n   Then the area \\\\(A\\\\) is given by:\\n\\n   \\\\[\\n   A = \\\\sqrt{s(s-a)(s-b)(s-c)}\\n   \\\\]\\n\\n2. **Using Trigonometry**:\\n   If you know two sides and the included angle, you can use:\\n\\n   \\\\[\\n   \\\\text{Area} = \\\\frac{1}{2} \\\\times a \\\\times b \\\\times \\\\sin(C)\\n   \\\\]\\n\\n   Here, \\\\(a\\\\) and \\\\(b\\\\) are the lengths of the two sides, and \\\\(C\\\\) is the measure of the included angle.\\n\\n### Real-World Applications\\nCalculating the area of a triangle is important in various fields, including architecture, engineering, and geography for land surveying and more.\\n\\nFeel free to ask if you would like to know more about any of these methods!\""
      ]
     },
     "execution_count": 79,
     "metadata": {},
     "output_type": "execute_result"
    }
   ],
   "source": [
    "result['text']"
   ]
  },
  {
   "cell_type": "code",
   "execution_count": 80,
   "metadata": {},
   "outputs": [],
   "source": [
    "result = final_chain.invoke({\"question\": \"How are you?\"})"
   ]
  },
  {
   "cell_type": "code",
   "execution_count": 81,
   "metadata": {},
   "outputs": [
    {
     "data": {
      "text/plain": [
       "{'question': 'How are you?',\n",
       " 'history': [HumanMessage(content='How to calculate the area of a triangle?', additional_kwargs={}, response_metadata={}),\n",
       "  AIMessage(content='Your question is **conceptual**, as it involves understanding the principle behind calculating the area of a triangle.\\n\\nThe most common formula for finding the area of a triangle when you know the base and height is:\\n\\n\\\\[\\n\\\\text{Area} = \\\\frac{1}{2} \\\\times \\\\text{base} \\\\times \\\\text{height}\\n\\\\]\\n\\nHere\\'s what each term means:\\n- **Base**: This is any one of the sides of the triangle, usually chosen for convenience as the \"bottom\" side.\\n- **Height**: This is the perpendicular distance from the base to the opposite vertex (the \"top\" point of the triangle).\\n\\n### Example:\\nSuppose you have a triangle with a base of 6 units and a height of 4 units. The area would be calculated as:\\n\\n\\\\[\\n\\\\text{Area} = \\\\frac{1}{2} \\\\times 6 \\\\times 4 = 12 \\\\text{ square units}\\n\\\\]\\n\\n### Other Formulas:\\n1. **Using Heron\\'s Formula**: When you know all three sides \\\\(a\\\\), \\\\(b\\\\), and \\\\(c\\\\), the area can be calculated using Heron\\'s Formula. First, compute the semi-perimeter \\\\(s\\\\):\\n\\n   \\\\[\\n   s = \\\\frac{a + b + c}{2}\\n   \\\\]\\n\\n   Then, use:\\n\\n   \\\\[\\n   \\\\text{Area} = \\\\sqrt{s(s-a)(s-b)(s-c)}\\n   \\\\]\\n\\n2. **Using Trigonometry**: If you know two sides and the included angle, the area can also be found using:\\n\\n   \\\\[\\n   \\\\text{Area} = \\\\frac{1}{2} \\\\times a \\\\times b \\\\times \\\\sin(C)\\n   \\\\]\\n\\n   Here, \\\\(a\\\\) and \\\\(b\\\\) are the sides, and \\\\(C\\\\) is the angle between them.\\n\\n### Real-World Applications:\\n- **Architecture**: Calculating areas of triangular sections within structures.\\n- **Landscape Design**: Planning and plotting gardens or terrains that involve triangular plots.\\n- **Art and Design**: Utilizing triangular shapes within compositions and needing to calculate area for material usage.\\n\\nIf you have specific measurements or a type of triangle in mind and need further assistance, feel free to ask!', additional_kwargs={}, response_metadata={}),\n",
       "  HumanMessage(content='How to calculate the area of a triangle?', additional_kwargs={}, response_metadata={}),\n",
       "  AIMessage(content=\"Your question is conceptual. Let me explain how to calculate the area of a triangle.\\n\\n### Basic Formula\\nThe most common formula to calculate the area of a triangle is:\\n\\n\\\\[\\n\\\\text{Area} = \\\\frac{1}{2} \\\\times \\\\text{base} \\\\times \\\\text{height}\\n\\\\]\\n\\n- **Base**: Any side of the triangle can be considered the base.\\n- **Height**: The perpendicular distance from the base to the opposite vertex.\\n\\n### Example\\nIf you have a triangle with a base of 8 units and a height of 5 units, the area would be calculated as follows:\\n\\n\\\\[\\n\\\\text{Area} = \\\\frac{1}{2} \\\\times 8 \\\\times 5 = 20 \\\\text{ square units}\\n\\\\]\\n\\n### Other Methods\\nIf you’re dealing with specific types of triangles or don't have the height directly, you can use other methods:\\n\\n1. **Heron's Formula**:\\n   When you know the lengths of all three sides, \\\\(a\\\\), \\\\(b\\\\), and \\\\(c\\\\), you can use Heron's Formula. First, compute the semi-perimeter \\\\(s\\\\):\\n\\n   \\\\[\\n   s = \\\\frac{a + b + c}{2}\\n   \\\\]\\n\\n   Then the area \\\\(A\\\\) is given by:\\n\\n   \\\\[\\n   A = \\\\sqrt{s(s-a)(s-b)(s-c)}\\n   \\\\]\\n\\n2. **Using Trigonometry**:\\n   If you know two sides and the included angle, you can use:\\n\\n   \\\\[\\n   \\\\text{Area} = \\\\frac{1}{2} \\\\times a \\\\times b \\\\times \\\\sin(C)\\n   \\\\]\\n\\n   Here, \\\\(a\\\\) and \\\\(b\\\\) are the lengths of the two sides, and \\\\(C\\\\) is the measure of the included angle.\\n\\n### Real-World Applications\\nCalculating the area of a triangle is important in various fields, including architecture, engineering, and geography for land surveying and more.\\n\\nFeel free to ask if you would like to know more about any of these methods!\", additional_kwargs={}, response_metadata={}),\n",
       "  HumanMessage(content='How are you?', additional_kwargs={}, response_metadata={}),\n",
       "  AIMessage(content=\"I'm here to help with any math-related questions you might have. How can I assist you today?\", additional_kwargs={}, response_metadata={})],\n",
       " 'text': \"I'm here to help with any math-related questions you might have. How can I assist you today?\"}"
      ]
     },
     "execution_count": 81,
     "metadata": {},
     "output_type": "execute_result"
    }
   ],
   "source": [
    "result"
   ]
  },
  {
   "cell_type": "code",
   "execution_count": null,
   "metadata": {},
   "outputs": [],
   "source": []
  }
 ],
 "metadata": {
  "kernelspec": {
   "display_name": "littleSeven",
   "language": "python",
   "name": "python3"
  },
  "language_info": {
   "codemirror_mode": {
    "name": "ipython",
    "version": 3
   },
   "file_extension": ".py",
   "mimetype": "text/x-python",
   "name": "python",
   "nbconvert_exporter": "python",
   "pygments_lexer": "ipython3",
   "version": "3.12.0"
  }
 },
 "nbformat": 4,
 "nbformat_minor": 2
}
