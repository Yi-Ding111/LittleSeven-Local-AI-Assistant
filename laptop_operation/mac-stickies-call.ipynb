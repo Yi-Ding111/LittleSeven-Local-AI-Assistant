{
 "cells": [
  {
   "cell_type": "code",
   "execution_count": 1,
   "metadata": {},
   "outputs": [
    {
     "name": "stdout",
     "output_type": "stream",
     "text": [
      "✅ Stickies is created\n"
     ]
    }
   ],
   "source": [
    "import subprocess\n",
    "\n",
    "def create_stickies_note(note_text):\n",
    "    applescript = f'''\n",
    "    tell application \"Stickies\"\n",
    "        activate\n",
    "    end tell\n",
    "    delay 1\n",
    "    tell application \"System Events\"\n",
    "        keystroke \"n\" using {{command down}} -- create new stick\n",
    "        delay 1\n",
    "        keystroke \"{note_text}\" -- note input\n",
    "    end tell\n",
    "    '''\n",
    "    subprocess.run([\"osascript\", \"-e\", applescript])\n",
    "\n",
    "if __name__ == \"__main__\":\n",
    "    note_content = input(\"please enter content: \")\n",
    "    create_stickies_note(note_content)\n",
    "    print(\"✅ Stickies is created\")"
   ]
  },
  {
   "cell_type": "code",
   "execution_count": null,
   "metadata": {},
   "outputs": [],
   "source": []
  }
 ],
 "metadata": {
  "kernelspec": {
   "display_name": "littleSeven",
   "language": "python",
   "name": "python3"
  },
  "language_info": {
   "codemirror_mode": {
    "name": "ipython",
    "version": 3
   },
   "file_extension": ".py",
   "mimetype": "text/x-python",
   "name": "python",
   "nbconvert_exporter": "python",
   "pygments_lexer": "ipython3",
   "version": "3.12.0"
  }
 },
 "nbformat": 4,
 "nbformat_minor": 2
}
