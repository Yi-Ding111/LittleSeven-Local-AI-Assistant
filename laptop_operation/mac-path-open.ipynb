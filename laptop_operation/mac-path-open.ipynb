{
 "cells": [
  {
   "cell_type": "code",
   "execution_count": 6,
   "metadata": {},
   "outputs": [],
   "source": [
    "import subprocess\n",
    "import os\n",
    "\n",
    "def open_file(file_path):\n",
    "    \"\"\"\n",
    "    open file on macOS(PDF、Word、TXT)\n",
    "    :param file_path: the file path\n",
    "    \"\"\"\n",
    "    # make sure the path exists.\n",
    "    if not os.path.exists(file_path):\n",
    "        print(f\"error: file '{file_path}' does not exist.\")\n",
    "        return\n",
    "    \n",
    "    try:\n",
    "        subprocess.run([\"open\", file_path], check=True)\n",
    "        print(f\"file is opened: {file_path}\")\n",
    "    except subprocess.CalledProcessError as e:\n",
    "        print(f\"cannot open the file: {e}\")"
   ]
  },
  {
   "cell_type": "code",
   "execution_count": 7,
   "metadata": {},
   "outputs": [
    {
     "name": "stdout",
     "output_type": "stream",
     "text": [
      "file is opened: /Users/yiding/personal_projects/NOTES/papers/inprogress/Attention-is-all-you-need.pdf\n"
     ]
    }
   ],
   "source": [
    "file_path = \"/Users/yiding/personal_projects/NOTES/papers/inprogress/Attention-is-all-you-need.pdf\"  # replace with your file path\n",
    "open_file(file_path)"
   ]
  },
  {
   "cell_type": "code",
   "execution_count": 3,
   "metadata": {},
   "outputs": [
    {
     "name": "stdout",
     "output_type": "stream",
     "text": [
      "✅ file is opened: /Users/yiding/personal_projects/NOTES/papers/inprogress\n"
     ]
    }
   ],
   "source": [
    "file_path = \"/Users/yiding/personal_projects/NOTES/papers/inprogress\"  # replace with your file path\n",
    "open_file(file_path)"
   ]
  },
  {
   "cell_type": "code",
   "execution_count": 5,
   "metadata": {},
   "outputs": [
    {
     "name": "stdout",
     "output_type": "stream",
     "text": [
      "✅ file is opened: ../../../../NOTES/papers/inprogress/Attention-is-all-you-need.pdf\n"
     ]
    }
   ],
   "source": [
    "file_path = \"../../../../NOTES/papers/inprogress/Attention-is-all-you-need.pdf\"  # replace with your file path\n",
    "open_file(file_path)"
   ]
  },
  {
   "cell_type": "code",
   "execution_count": null,
   "metadata": {},
   "outputs": [],
   "source": []
  }
 ],
 "metadata": {
  "kernelspec": {
   "display_name": "littleSeven",
   "language": "python",
   "name": "python3"
  },
  "language_info": {
   "codemirror_mode": {
    "name": "ipython",
    "version": 3
   },
   "file_extension": ".py",
   "mimetype": "text/x-python",
   "name": "python",
   "nbconvert_exporter": "python",
   "pygments_lexer": "ipython3",
   "version": "3.12.0"
  }
 },
 "nbformat": 4,
 "nbformat_minor": 2
}
