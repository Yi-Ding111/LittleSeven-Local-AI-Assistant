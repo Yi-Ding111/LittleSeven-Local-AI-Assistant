{
 "cells": [
  {
   "cell_type": "code",
   "execution_count": 1,
   "metadata": {},
   "outputs": [],
   "source": [
    "import time\n",
    "import random\n",
    "from selenium import webdriver\n",
    "from selenium.webdriver.chrome.service import Service\n",
    "from selenium.webdriver.chrome.options import Options\n",
    "from selenium.webdriver.common.by import By\n",
    "from selenium.webdriver.common.keys import Keys\n",
    "from selenium.webdriver.common.action_chains import ActionChains\n",
    "from webdriver_manager.chrome import ChromeDriverManager"
   ]
  },
  {
   "cell_type": "code",
   "execution_count": 2,
   "metadata": {},
   "outputs": [],
   "source": [
    "# setup chrome options\n",
    "options = Options()\n",
    "\n",
    "# Disguise the user agent (make Google think it's a normal user)\n",
    "options.add_argument(\"user-agent=Mozilla/5.0 (Macintosh; Intel Mac OS X 10_15_7) AppleWebKit/537.36 (KHTML, like Gecko) Chrome/121.0.0.0 Safari/537.36\")\n",
    "\n",
    "# Open Chrome in Incognito mode\n",
    "options.add_argument(\"--incognito\")\n",
    "\n",
    "# Disable Automation Flag\n",
    "options.add_argument(\"--disable-blink-features=AutomationControlled\")\n",
    "\n",
    "# Maximize Window\n",
    "options.add_argument(\"--start-maximized\")\n",
    "\n",
    "# options.add_argument(\"--blink-settings=imagesEnabled=false\")\n",
    "\n"
   ]
  },
  {
   "cell_type": "code",
   "execution_count": 3,
   "metadata": {},
   "outputs": [],
   "source": [
    "# start Chrome \n",
    "service = Service(ChromeDriverManager().install())\n",
    "driver = webdriver.Chrome(service=service, options=options)\n",
    "driver.get(\"https://www.google.com\")"
   ]
  },
  {
   "cell_type": "code",
   "execution_count": 4,
   "metadata": {},
   "outputs": [],
   "source": [
    "# wait page loading\n",
    "time.sleep(random.uniform(1, 3))"
   ]
  },
  {
   "cell_type": "code",
   "execution_count": 5,
   "metadata": {},
   "outputs": [],
   "source": [
    "# Find the search box\n",
    "search_box = driver.find_element(By.NAME, \"q\")"
   ]
  },
  {
   "cell_type": "code",
   "execution_count": 6,
   "metadata": {},
   "outputs": [],
   "source": [
    "# Simulate mouse movement to the search box\n",
    "action = ActionChains(driver)\n",
    "action.move_to_element(search_box).perform()"
   ]
  },
  {
   "cell_type": "code",
   "execution_count": 7,
   "metadata": {},
   "outputs": [],
   "source": [
    "# Enter keywords\n",
    "keyword = \"NBA trade news\"\n",
    "search_box.send_keys(keyword)"
   ]
  },
  {
   "cell_type": "code",
   "execution_count": 8,
   "metadata": {},
   "outputs": [],
   "source": [
    "time.sleep(random.uniform(1, 3))"
   ]
  },
  {
   "cell_type": "code",
   "execution_count": 9,
   "metadata": {},
   "outputs": [],
   "source": [
    "# Press enter to search\n",
    "search_box.send_keys(Keys.RETURN)"
   ]
  },
  {
   "cell_type": "code",
   "execution_count": 10,
   "metadata": {},
   "outputs": [],
   "source": [
    "\n",
    "\n",
    "# time.sleep(random.uniform(3, 6))\n",
    "\n",
    "# # === 3. Simulate real-person scrolling web pages ===\n",
    "# scroll_steps = random.randint(3, 6)  # Randomly roll 3 to 6 times\n",
    "# for _ in range(scroll_steps):\n",
    "#     scroll_distance = random.randint(200, 800)  # 200 to 800 pixels per scroll\n",
    "#     driver.execute_script(f\"window.scrollBy(0, {scroll_distance});\")\n",
    "#     time.sleep(random.uniform(1, 3))  # Simulate user browsing time\n",
    "\n",
    "# # **print current page url**\n",
    "# print(\"current page:\", driver.current_url)\n"
   ]
  },
  {
   "cell_type": "code",
   "execution_count": 11,
   "metadata": {},
   "outputs": [],
   "source": [
    "# close\n",
    "driver.quit()"
   ]
  },
  {
   "cell_type": "code",
   "execution_count": null,
   "metadata": {},
   "outputs": [],
   "source": []
  }
 ],
 "metadata": {
  "kernelspec": {
   "display_name": "littleSeven",
   "language": "python",
   "name": "python3"
  },
  "language_info": {
   "codemirror_mode": {
    "name": "ipython",
    "version": 3
   },
   "file_extension": ".py",
   "mimetype": "text/x-python",
   "name": "python",
   "nbconvert_exporter": "python",
   "pygments_lexer": "ipython3",
   "version": "3.12.0"
  }
 },
 "nbformat": 4,
 "nbformat_minor": 2
}
